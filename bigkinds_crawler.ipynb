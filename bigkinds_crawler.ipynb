{
 "cells": [
  {
   "cell_type": "code",
   "execution_count": 273,
   "id": "b47ce481",
   "metadata": {},
   "outputs": [],
   "source": [
    "from selenium import webdriver\n",
    "from selenium.webdriver.remote.webelement import WebElement\n",
    "from selenium.webdriver.common.keys import Keys\n",
    "from selenium.webdriver.support.ui import WebDriverWait\n",
    "from selenium.webdriver.common.by import By\n",
    "from selenium.webdriver.support import expected_conditions as EC\n",
    "from bs4 import BeautifulSoup\n",
    "import requests\n",
    "import pandas as pd\n",
    "import csv\n",
    "import time\n",
    "import re"
   ]
  },
  {
   "cell_type": "code",
   "execution_count": 274,
   "id": "f6430085",
   "metadata": {},
   "outputs": [
    {
     "name": "stderr",
     "output_type": "stream",
     "text": [
      "/var/folders/s2/hnmqp7lj4t1bmkwjn8qdwk3w0000gn/T/ipykernel_33616/419741141.py:1: DeprecationWarning: executable_path has been deprecated, please pass in a Service object\n",
      "  browser = webdriver.Chrome('/Users/ohikendoit/chromedriver')\n"
     ]
    }
   ],
   "source": [
    "browser = webdriver.Chrome('/Users/ohikendoit/chromedriver')\n",
    "browser.maximize_window()\n",
    "browser.get('https://www.bigkinds.or.kr/v2/news/index.do')"
   ]
  },
  {
   "cell_type": "code",
   "execution_count": 275,
   "id": "6eb03900",
   "metadata": {},
   "outputs": [],
   "source": [
    "# 기간 설정 ['시작날짜', '마지막날짜']\n",
    "date = ['2017-09-01', '2022-09-01']\n",
    "\n",
    "# 키워드\n",
    "word = '삼성전자'\n",
    "\n",
    "# 뉴스매체\n",
    "media = ['조선일보', '중앙일보', '동앙일보', '한겨례', '경향', '한국경제', '매일경제', 'KBS', 'MBC', 'OBS', 'SBS', 'YTN']"
   ]
  },
  {
   "cell_type": "markdown",
   "id": "22f9852d",
   "metadata": {},
   "source": [
    "키워드 입력"
   ]
  },
  {
   "cell_type": "code",
   "execution_count": 283,
   "id": "7ff479a7",
   "metadata": {},
   "outputs": [],
   "source": [
    "browser.find_element(by=By.XPATH, value=\"//input[@id='total-search-key']\").send_keys(word)"
   ]
  },
  {
   "cell_type": "markdown",
   "id": "b0208c0b",
   "metadata": {},
   "source": [
    "기간 설정"
   ]
  },
  {
   "cell_type": "code",
   "execution_count": 284,
   "id": "27de410a",
   "metadata": {},
   "outputs": [],
   "source": [
    "browser.find_element(by=By.XPATH, value=\"//div[@class='tab-btn-inner tab1']\").click()\n",
    "#browser.find_element(By.CLASS_NAME,\"datePicker\").click() #전체기간 선택옵션으로 전환하기"
   ]
  },
  {
   "cell_type": "code",
   "execution_count": 285,
   "id": "088f0917",
   "metadata": {},
   "outputs": [
    {
     "name": "stderr",
     "output_type": "stream",
     "text": [
      "/var/folders/s2/hnmqp7lj4t1bmkwjn8qdwk3w0000gn/T/ipykernel_33616/1804819989.py:1: DeprecationWarning: find_element_by_xpath is deprecated. Please use find_element(by=By.XPATH, value=xpath) instead\n",
      "  start_date = browser.find_element_by_xpath(\"//input[@id='search-begin-date']\")\n",
      "/var/folders/s2/hnmqp7lj4t1bmkwjn8qdwk3w0000gn/T/ipykernel_33616/1804819989.py:18: DeprecationWarning: find_element_by_xpath is deprecated. Please use find_element(by=By.XPATH, value=xpath) instead\n",
      "  end_date = browser.find_element_by_xpath(\"//input[@id='search-end-date']\")\n"
     ]
    }
   ],
   "source": [
    "start_date = browser.find_element_by_xpath(\"//input[@id='search-begin-date']\")\n",
    "start_date.click()\n",
    "\n",
    "start_date.send_keys(Keys.BACKSPACE)\n",
    "start_date.send_keys(Keys.BACKSPACE)\n",
    "start_date.send_keys(Keys.BACKSPACE)\n",
    "start_date.send_keys(Keys.BACKSPACE)\n",
    "start_date.send_keys(Keys.BACKSPACE)\n",
    "start_date.send_keys(Keys.BACKSPACE)\n",
    "start_date.send_keys(Keys.BACKSPACE)\n",
    "start_date.send_keys(Keys.BACKSPACE)\n",
    "start_date.send_keys(Keys.BACKSPACE)\n",
    "start_date.send_keys(Keys.BACKSPACE)\n",
    "start_date.send_keys(\"2017-09-01\")\n",
    "time.sleep(1)\n",
    "start_date.send_keys(Keys.ENTER)\n",
    "\n",
    "end_date = browser.find_element_by_xpath(\"//input[@id='search-end-date']\")\n",
    "end_date.click()\n",
    "\n",
    "end_date.send_keys(Keys.BACKSPACE)\n",
    "end_date.send_keys(Keys.BACKSPACE)\n",
    "end_date.send_keys(Keys.BACKSPACE)\n",
    "end_date.send_keys(Keys.BACKSPACE)\n",
    "end_date.send_keys(Keys.BACKSPACE)\n",
    "end_date.send_keys(Keys.BACKSPACE)\n",
    "end_date.send_keys(Keys.BACKSPACE)\n",
    "end_date.send_keys(Keys.BACKSPACE)\n",
    "end_date.send_keys(Keys.BACKSPACE)\n",
    "end_date.send_keys(Keys.BACKSPACE)\n",
    "end_date.send_keys(\"2022-09-01\")\n",
    "time.sleep(1)\n",
    "end_date.send_keys(Keys.ENTER)\n",
    "\n",
    "#browser.find_element_by_xpath(\"//button[@class='btn btn-search news-search-btn news-report-search-btn']\").click()\n"
   ]
  },
  {
   "cell_type": "markdown",
   "id": "47c108a8",
   "metadata": {},
   "source": [
    "언론사 선정"
   ]
  },
  {
   "cell_type": "code",
   "execution_count": 294,
   "id": "53ff8cf2",
   "metadata": {},
   "outputs": [
    {
     "name": "stderr",
     "output_type": "stream",
     "text": [
      "/var/folders/s2/hnmqp7lj4t1bmkwjn8qdwk3w0000gn/T/ipykernel_33616/3115732394.py:6: DeprecationWarning: find_element_by_* commands are deprecated. Please use find_element() instead\n",
      "  browser.find_element_by_id(\"경향신문\").click()\n"
     ]
    },
    {
     "ename": "ElementClickInterceptedException",
     "evalue": "Message: element click intercepted: Element <input type=\"checkbox\" class=\"provider-btn selected\" data-code=\"01100101\" data-gubuncode=\"10\" data-areacode=\"10\" name=\"경향신문\" id=\"경향신문\"> is not clickable at point (365, 215). Other element would receive the click: <ul class=\"chk-lst\" id=\"category_provider_list\" style=\"overflow-y: auto; height: 236px;\">...</ul>\n  (Session info: chrome=105.0.5195.125)\nStacktrace:\n0   chromedriver                        0x000000010ec02788 chromedriver + 4515720\n1   chromedriver                        0x000000010eb869d3 chromedriver + 4008403\n2   chromedriver                        0x000000010e81912a chromedriver + 413994\n3   chromedriver                        0x000000010e8581b2 chromedriver + 672178\n4   chromedriver                        0x000000010e855c27 chromedriver + 662567\n5   chromedriver                        0x000000010e853234 chromedriver + 651828\n6   chromedriver                        0x000000010e851f57 chromedriver + 646999\n7   chromedriver                        0x000000010e845861 chromedriver + 596065\n8   chromedriver                        0x000000010e86d7d2 chromedriver + 759762\n9   chromedriver                        0x000000010e845075 chromedriver + 594037\n10  chromedriver                        0x000000010e86d92e chromedriver + 760110\n11  chromedriver                        0x000000010e880bd9 chromedriver + 838617\n12  chromedriver                        0x000000010e86d603 chromedriver + 759299\n13  chromedriver                        0x000000010e843990 chromedriver + 588176\n14  chromedriver                        0x000000010e844a75 chromedriver + 592501\n15  chromedriver                        0x000000010ebd26cd chromedriver + 4318925\n16  chromedriver                        0x000000010ebd6f35 chromedriver + 4337461\n17  chromedriver                        0x000000010ebde1ff chromedriver + 4366847\n18  chromedriver                        0x000000010ebd7c5a chromedriver + 4340826\n19  chromedriver                        0x000000010ebadc2c chromedriver + 4168748\n20  chromedriver                        0x000000010ebf44f8 chromedriver + 4457720\n21  chromedriver                        0x000000010ebf4693 chromedriver + 4458131\n22  chromedriver                        0x000000010ec09a3e chromedriver + 4545086\n23  libsystem_pthread.dylib             0x00007ff8079684e1 _pthread_start + 125\n24  libsystem_pthread.dylib             0x00007ff807963f6b thread_start + 15\n",
     "output_type": "error",
     "traceback": [
      "\u001b[0;31m---------------------------------------------------------------------------\u001b[0m",
      "\u001b[0;31mElementClickInterceptedException\u001b[0m          Traceback (most recent call last)",
      "\u001b[0;32m/var/folders/s2/hnmqp7lj4t1bmkwjn8qdwk3w0000gn/T/ipykernel_33616/3115732394.py\u001b[0m in \u001b[0;36m<module>\u001b[0;34m\u001b[0m\n\u001b[1;32m      4\u001b[0m \u001b[0;31m#browser.find_element(By.NAME,\"경향신문\").click()\u001b[0m\u001b[0;34m\u001b[0m\u001b[0;34m\u001b[0m\u001b[0m\n\u001b[1;32m      5\u001b[0m \u001b[0;34m\u001b[0m\u001b[0m\n\u001b[0;32m----> 6\u001b[0;31m \u001b[0mbrowser\u001b[0m\u001b[0;34m.\u001b[0m\u001b[0mfind_element_by_id\u001b[0m\u001b[0;34m(\u001b[0m\u001b[0;34m\"경향신문\"\u001b[0m\u001b[0;34m)\u001b[0m\u001b[0;34m.\u001b[0m\u001b[0mclick\u001b[0m\u001b[0;34m(\u001b[0m\u001b[0;34m)\u001b[0m\u001b[0;34m\u001b[0m\u001b[0;34m\u001b[0m\u001b[0m\n\u001b[0m",
      "\u001b[0;32m~/opt/anaconda3/lib/python3.9/site-packages/selenium/webdriver/remote/webelement.py\u001b[0m in \u001b[0;36mclick\u001b[0;34m(self)\u001b[0m\n\u001b[1;32m     79\u001b[0m     \u001b[0;32mdef\u001b[0m \u001b[0mclick\u001b[0m\u001b[0;34m(\u001b[0m\u001b[0mself\u001b[0m\u001b[0;34m)\u001b[0m \u001b[0;34m->\u001b[0m \u001b[0;32mNone\u001b[0m\u001b[0;34m:\u001b[0m\u001b[0;34m\u001b[0m\u001b[0;34m\u001b[0m\u001b[0m\n\u001b[1;32m     80\u001b[0m         \u001b[0;34m\"\"\"Clicks the element.\"\"\"\u001b[0m\u001b[0;34m\u001b[0m\u001b[0;34m\u001b[0m\u001b[0m\n\u001b[0;32m---> 81\u001b[0;31m         \u001b[0mself\u001b[0m\u001b[0;34m.\u001b[0m\u001b[0m_execute\u001b[0m\u001b[0;34m(\u001b[0m\u001b[0mCommand\u001b[0m\u001b[0;34m.\u001b[0m\u001b[0mCLICK_ELEMENT\u001b[0m\u001b[0;34m)\u001b[0m\u001b[0;34m\u001b[0m\u001b[0;34m\u001b[0m\u001b[0m\n\u001b[0m\u001b[1;32m     82\u001b[0m \u001b[0;34m\u001b[0m\u001b[0m\n\u001b[1;32m     83\u001b[0m     \u001b[0;32mdef\u001b[0m \u001b[0msubmit\u001b[0m\u001b[0;34m(\u001b[0m\u001b[0mself\u001b[0m\u001b[0;34m)\u001b[0m\u001b[0;34m:\u001b[0m\u001b[0;34m\u001b[0m\u001b[0;34m\u001b[0m\u001b[0m\n",
      "\u001b[0;32m~/opt/anaconda3/lib/python3.9/site-packages/selenium/webdriver/remote/webelement.py\u001b[0m in \u001b[0;36m_execute\u001b[0;34m(self, command, params)\u001b[0m\n\u001b[1;32m    738\u001b[0m             \u001b[0mparams\u001b[0m \u001b[0;34m=\u001b[0m \u001b[0;34m{\u001b[0m\u001b[0;34m}\u001b[0m\u001b[0;34m\u001b[0m\u001b[0;34m\u001b[0m\u001b[0m\n\u001b[1;32m    739\u001b[0m         \u001b[0mparams\u001b[0m\u001b[0;34m[\u001b[0m\u001b[0;34m'id'\u001b[0m\u001b[0;34m]\u001b[0m \u001b[0;34m=\u001b[0m \u001b[0mself\u001b[0m\u001b[0;34m.\u001b[0m\u001b[0m_id\u001b[0m\u001b[0;34m\u001b[0m\u001b[0;34m\u001b[0m\u001b[0m\n\u001b[0;32m--> 740\u001b[0;31m         \u001b[0;32mreturn\u001b[0m \u001b[0mself\u001b[0m\u001b[0;34m.\u001b[0m\u001b[0m_parent\u001b[0m\u001b[0;34m.\u001b[0m\u001b[0mexecute\u001b[0m\u001b[0;34m(\u001b[0m\u001b[0mcommand\u001b[0m\u001b[0;34m,\u001b[0m \u001b[0mparams\u001b[0m\u001b[0;34m)\u001b[0m\u001b[0;34m\u001b[0m\u001b[0;34m\u001b[0m\u001b[0m\n\u001b[0m\u001b[1;32m    741\u001b[0m \u001b[0;34m\u001b[0m\u001b[0m\n\u001b[1;32m    742\u001b[0m     \u001b[0;32mdef\u001b[0m \u001b[0mfind_element\u001b[0m\u001b[0;34m(\u001b[0m\u001b[0mself\u001b[0m\u001b[0;34m,\u001b[0m \u001b[0mby\u001b[0m\u001b[0;34m=\u001b[0m\u001b[0mBy\u001b[0m\u001b[0;34m.\u001b[0m\u001b[0mID\u001b[0m\u001b[0;34m,\u001b[0m \u001b[0mvalue\u001b[0m\u001b[0;34m=\u001b[0m\u001b[0;32mNone\u001b[0m\u001b[0;34m)\u001b[0m\u001b[0;34m:\u001b[0m\u001b[0;34m\u001b[0m\u001b[0;34m\u001b[0m\u001b[0m\n",
      "\u001b[0;32m~/opt/anaconda3/lib/python3.9/site-packages/selenium/webdriver/remote/webdriver.py\u001b[0m in \u001b[0;36mexecute\u001b[0;34m(self, driver_command, params)\u001b[0m\n\u001b[1;32m    428\u001b[0m         \u001b[0mresponse\u001b[0m \u001b[0;34m=\u001b[0m \u001b[0mself\u001b[0m\u001b[0;34m.\u001b[0m\u001b[0mcommand_executor\u001b[0m\u001b[0;34m.\u001b[0m\u001b[0mexecute\u001b[0m\u001b[0;34m(\u001b[0m\u001b[0mdriver_command\u001b[0m\u001b[0;34m,\u001b[0m \u001b[0mparams\u001b[0m\u001b[0;34m)\u001b[0m\u001b[0;34m\u001b[0m\u001b[0;34m\u001b[0m\u001b[0m\n\u001b[1;32m    429\u001b[0m         \u001b[0;32mif\u001b[0m \u001b[0mresponse\u001b[0m\u001b[0;34m:\u001b[0m\u001b[0;34m\u001b[0m\u001b[0;34m\u001b[0m\u001b[0m\n\u001b[0;32m--> 430\u001b[0;31m             \u001b[0mself\u001b[0m\u001b[0;34m.\u001b[0m\u001b[0merror_handler\u001b[0m\u001b[0;34m.\u001b[0m\u001b[0mcheck_response\u001b[0m\u001b[0;34m(\u001b[0m\u001b[0mresponse\u001b[0m\u001b[0;34m)\u001b[0m\u001b[0;34m\u001b[0m\u001b[0;34m\u001b[0m\u001b[0m\n\u001b[0m\u001b[1;32m    431\u001b[0m             response['value'] = self._unwrap_value(\n\u001b[1;32m    432\u001b[0m                 response.get('value', None))\n",
      "\u001b[0;32m~/opt/anaconda3/lib/python3.9/site-packages/selenium/webdriver/remote/errorhandler.py\u001b[0m in \u001b[0;36mcheck_response\u001b[0;34m(self, response)\u001b[0m\n\u001b[1;32m    245\u001b[0m                 \u001b[0malert_text\u001b[0m \u001b[0;34m=\u001b[0m \u001b[0mvalue\u001b[0m\u001b[0;34m[\u001b[0m\u001b[0;34m'alert'\u001b[0m\u001b[0;34m]\u001b[0m\u001b[0;34m.\u001b[0m\u001b[0mget\u001b[0m\u001b[0;34m(\u001b[0m\u001b[0;34m'text'\u001b[0m\u001b[0;34m)\u001b[0m\u001b[0;34m\u001b[0m\u001b[0;34m\u001b[0m\u001b[0m\n\u001b[1;32m    246\u001b[0m             \u001b[0;32mraise\u001b[0m \u001b[0mexception_class\u001b[0m\u001b[0;34m(\u001b[0m\u001b[0mmessage\u001b[0m\u001b[0;34m,\u001b[0m \u001b[0mscreen\u001b[0m\u001b[0;34m,\u001b[0m \u001b[0mstacktrace\u001b[0m\u001b[0;34m,\u001b[0m \u001b[0malert_text\u001b[0m\u001b[0;34m)\u001b[0m  \u001b[0;31m# type: ignore[call-arg]  # mypy is not smart enough here\u001b[0m\u001b[0;34m\u001b[0m\u001b[0;34m\u001b[0m\u001b[0m\n\u001b[0;32m--> 247\u001b[0;31m         \u001b[0;32mraise\u001b[0m \u001b[0mexception_class\u001b[0m\u001b[0;34m(\u001b[0m\u001b[0mmessage\u001b[0m\u001b[0;34m,\u001b[0m \u001b[0mscreen\u001b[0m\u001b[0;34m,\u001b[0m \u001b[0mstacktrace\u001b[0m\u001b[0;34m)\u001b[0m\u001b[0;34m\u001b[0m\u001b[0;34m\u001b[0m\u001b[0m\n\u001b[0m\u001b[1;32m    248\u001b[0m \u001b[0;34m\u001b[0m\u001b[0m\n\u001b[1;32m    249\u001b[0m     \u001b[0;32mdef\u001b[0m \u001b[0m_value_or_default\u001b[0m\u001b[0;34m(\u001b[0m\u001b[0mself\u001b[0m\u001b[0;34m,\u001b[0m \u001b[0mobj\u001b[0m\u001b[0;34m:\u001b[0m \u001b[0mMapping\u001b[0m\u001b[0;34m[\u001b[0m\u001b[0m_KT\u001b[0m\u001b[0;34m,\u001b[0m \u001b[0m_VT\u001b[0m\u001b[0;34m]\u001b[0m\u001b[0;34m,\u001b[0m \u001b[0mkey\u001b[0m\u001b[0;34m:\u001b[0m \u001b[0m_KT\u001b[0m\u001b[0;34m,\u001b[0m \u001b[0mdefault\u001b[0m\u001b[0;34m:\u001b[0m \u001b[0m_VT\u001b[0m\u001b[0;34m)\u001b[0m \u001b[0;34m->\u001b[0m \u001b[0m_VT\u001b[0m\u001b[0;34m:\u001b[0m\u001b[0;34m\u001b[0m\u001b[0;34m\u001b[0m\u001b[0m\n",
      "\u001b[0;31mElementClickInterceptedException\u001b[0m: Message: element click intercepted: Element <input type=\"checkbox\" class=\"provider-btn selected\" data-code=\"01100101\" data-gubuncode=\"10\" data-areacode=\"10\" name=\"경향신문\" id=\"경향신문\"> is not clickable at point (365, 215). Other element would receive the click: <ul class=\"chk-lst\" id=\"category_provider_list\" style=\"overflow-y: auto; height: 236px;\">...</ul>\n  (Session info: chrome=105.0.5195.125)\nStacktrace:\n0   chromedriver                        0x000000010ec02788 chromedriver + 4515720\n1   chromedriver                        0x000000010eb869d3 chromedriver + 4008403\n2   chromedriver                        0x000000010e81912a chromedriver + 413994\n3   chromedriver                        0x000000010e8581b2 chromedriver + 672178\n4   chromedriver                        0x000000010e855c27 chromedriver + 662567\n5   chromedriver                        0x000000010e853234 chromedriver + 651828\n6   chromedriver                        0x000000010e851f57 chromedriver + 646999\n7   chromedriver                        0x000000010e845861 chromedriver + 596065\n8   chromedriver                        0x000000010e86d7d2 chromedriver + 759762\n9   chromedriver                        0x000000010e845075 chromedriver + 594037\n10  chromedriver                        0x000000010e86d92e chromedriver + 760110\n11  chromedriver                        0x000000010e880bd9 chromedriver + 838617\n12  chromedriver                        0x000000010e86d603 chromedriver + 759299\n13  chromedriver                        0x000000010e843990 chromedriver + 588176\n14  chromedriver                        0x000000010e844a75 chromedriver + 592501\n15  chromedriver                        0x000000010ebd26cd chromedriver + 4318925\n16  chromedriver                        0x000000010ebd6f35 chromedriver + 4337461\n17  chromedriver                        0x000000010ebde1ff chromedriver + 4366847\n18  chromedriver                        0x000000010ebd7c5a chromedriver + 4340826\n19  chromedriver                        0x000000010ebadc2c chromedriver + 4168748\n20  chromedriver                        0x000000010ebf44f8 chromedriver + 4457720\n21  chromedriver                        0x000000010ebf4693 chromedriver + 4458131\n22  chromedriver                        0x000000010ec09a3e chromedriver + 4545086\n23  libsystem_pthread.dylib             0x00007ff8079684e1 _pthread_start + 125\n24  libsystem_pthread.dylib             0x00007ff807963f6b thread_start + 15\n"
     ]
    }
   ],
   "source": [
    "#browser.find_element(by=By.XPATH, value=\"//div[@class='tab-btn-inner tab2']\").click()\n",
    "\n",
    "#browser.find_element(by=By.XPATH, value=\"//input[@id='경향신문']\").click()\n",
    "#browser.find_element(By.NAME,\"경향신문\").click()\n",
    "\n",
    "경향신문 = browser.find_element_by_id(\"경향신문\")\n"
   ]
  },
  {
   "cell_type": "code",
   "execution_count": null,
   "id": "9b83cfc4",
   "metadata": {},
   "outputs": [],
   "source": [
    "#예시\n",
    "\n",
    "from selenium.webdriver.common.by import By\n",
    "from selenium.webdriver.support.ui import WebDriverWait\n",
    "from selenium.webdriver.support import expected_conditions as EC\n",
    "\n",
    "elem=WebDriverWait(driver,5000).until(EC.visibility_of_element_located(\n",
    "    (By.XPATH, \"//input[@id='on_off_on']\")))\n",
    "\n",
    "driver.execute_script(\"arguments[0].scrollIntoView();\",elem)\n",
    "\n",
    "element.click()"
   ]
  }
 ],
 "metadata": {
  "kernelspec": {
   "display_name": "Python 3 (ipykernel)",
   "language": "python",
   "name": "python3"
  },
  "language_info": {
   "codemirror_mode": {
    "name": "ipython",
    "version": 3
   },
   "file_extension": ".py",
   "mimetype": "text/x-python",
   "name": "python",
   "nbconvert_exporter": "python",
   "pygments_lexer": "ipython3",
   "version": "3.9.12"
  }
 },
 "nbformat": 4,
 "nbformat_minor": 5
}
